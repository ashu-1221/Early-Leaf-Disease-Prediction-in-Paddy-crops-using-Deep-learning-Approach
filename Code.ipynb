{
 "cells": [
  {
   "cell_type": "markdown",
   "id": "4026ed1e",
   "metadata": {},
   "source": [
    "# Paddy Leaf Detection Code"
   ]
  },
  {
   "cell_type": "code",
   "execution_count": null,
   "id": "cd19a457",
   "metadata": {},
   "outputs": [],
   "source": []
  },
  {
   "cell_type": "code",
   "execution_count": 3,
   "id": "35f86c6c",
   "metadata": {},
   "outputs": [],
   "source": [
    "import cv2 as cv\n",
    "import numpy as np\n",
    "import matplotlib.pyplot as plt\n",
    "import os\n",
    "import seaborn as sns\n",
    "from sklearn.metrics import roc_curve, auc\n",
    "from sklearn.metrics import confusion_matrix\n",
    "from keras import optimizers\n",
    "\n",
    "%matplotlib inline\n",
    "from tensorflow.keras.layers import BatchNormalization\n"
   ]
  },
  {
   "cell_type": "code",
   "execution_count": 4,
   "id": "da2319ad",
   "metadata": {},
   "outputs": [],
   "source": [
    "DATASET1=\"D:\\\\Final Project\\\\data set\\\\train\"\n",
    "DATASET2=\"D:\\\\Final Project\\\\data set\\\\test\""
   ]
  },
  {
   "cell_type": "code",
   "execution_count": 5,
   "id": "0aeda9b4",
   "metadata": {},
   "outputs": [],
   "source": [
    "CATEGORIES=[\"BrownSpot\",\"Healthy\",\"Hispa\",\"LeafBlast\"]"
   ]
  },
  {
   "cell_type": "code",
   "execution_count": 4,
   "id": "3b43d4f8",
   "metadata": {},
   "outputs": [],
   "source": [
    "train_data=[]\n",
    "\n",
    "for category in CATEGORIES:\n",
    "        label=CATEGORIES.index(category)\n",
    "        path=os.path.join(DATASET1,category)\n",
    "        for img_file in os.listdir(path):\n",
    "            img=cv.imread(os.path.join(path,img_file),1)\n",
    "            img=cv.cvtColor(img,cv.COLOR_BGR2RGB)\n",
    "            img=cv.resize(img,(64,64))            \n",
    "            train_data.append([img,label])\n",
    "            "
   ]
  },
  {
   "cell_type": "code",
   "execution_count": 5,
   "id": "651756c5",
   "metadata": {},
   "outputs": [],
   "source": [
    "test_data=[]\n",
    "for category in CATEGORIES:\n",
    "        label=CATEGORIES.index(category)\n",
    "        path=os.path.join(DATASET2,category)\n",
    "        for img_file in os.listdir(path):\n",
    "            img=cv.imread(os.path.join(path,img_file),1)\n",
    "            img=cv.cvtColor(img,cv.COLOR_BGR2RGB)\n",
    "            img=cv.resize(img,(64,64))\n",
    "            test_data.append([img,label])"
   ]
  },
  {
   "cell_type": "code",
   "execution_count": 6,
   "id": "7b211a37",
   "metadata": {},
   "outputs": [
    {
     "name": "stdout",
     "output_type": "stream",
     "text": [
      "3819\n",
      "1628\n"
     ]
    }
   ],
   "source": [
    "print(len(train_data))\n",
    "print(len(test_data))"
   ]
  },
  {
   "cell_type": "code",
   "execution_count": 7,
   "id": "db82268f",
   "metadata": {},
   "outputs": [
    {
     "name": "stdout",
     "output_type": "stream",
     "text": [
      "3\n",
      "1\n",
      "3\n",
      "3\n"
     ]
    }
   ],
   "source": [
    "# suffling to keep the data at random position to avoid underfitting and overfitting\n",
    "\n",
    "import random\n",
    "\n",
    "random.shuffle(train_data)\n",
    "random.shuffle(test_data)\n",
    "for lbl in train_data[:4]:\n",
    "    print(lbl[1])\n",
    "X_train=[]\n",
    "y_train=[]\n",
    "\n",
    "for features,label in train_data:\n",
    "    X_train.append(features)\n",
    "    y_train.append(label)\n",
    "    "
   ]
  },
  {
   "cell_type": "code",
   "execution_count": 8,
   "id": "71f872a7",
   "metadata": {},
   "outputs": [],
   "source": [
    "Y=[]\n",
    "for i in y_train:\n",
    "    if i==0:\n",
    "        Y.append(\"BROWN SPOT\")\n",
    " \n",
    "    elif i==1:\n",
    "        Y.append(\"HEALTHY\")\n",
    "    elif i==2:\n",
    "        Y.append(\"HISPA\")\n",
    "    else :\n",
    "        Y.append(\"LEAF BLAST\")\n"
   ]
  },
  {
   "cell_type": "code",
   "execution_count": 9,
   "id": "56b67198",
   "metadata": {},
   "outputs": [
    {
     "data": {
      "text/html": [
       "<div>\n",
       "<style scoped>\n",
       "    .dataframe tbody tr th:only-of-type {\n",
       "        vertical-align: middle;\n",
       "    }\n",
       "\n",
       "    .dataframe tbody tr th {\n",
       "        vertical-align: top;\n",
       "    }\n",
       "\n",
       "    .dataframe thead th {\n",
       "        text-align: right;\n",
       "    }\n",
       "</style>\n",
       "<table border=\"1\" class=\"dataframe\">\n",
       "  <thead>\n",
       "    <tr style=\"text-align: right;\">\n",
       "      <th></th>\n",
       "      <th>Diseases</th>\n",
       "    </tr>\n",
       "  </thead>\n",
       "  <tbody>\n",
       "    <tr>\n",
       "      <th>0</th>\n",
       "      <td>LEAF BLAST</td>\n",
       "    </tr>\n",
       "    <tr>\n",
       "      <th>1</th>\n",
       "      <td>HEALTHY</td>\n",
       "    </tr>\n",
       "    <tr>\n",
       "      <th>2</th>\n",
       "      <td>LEAF BLAST</td>\n",
       "    </tr>\n",
       "    <tr>\n",
       "      <th>3</th>\n",
       "      <td>LEAF BLAST</td>\n",
       "    </tr>\n",
       "    <tr>\n",
       "      <th>4</th>\n",
       "      <td>HISPA</td>\n",
       "    </tr>\n",
       "    <tr>\n",
       "      <th>...</th>\n",
       "      <td>...</td>\n",
       "    </tr>\n",
       "    <tr>\n",
       "      <th>3814</th>\n",
       "      <td>HISPA</td>\n",
       "    </tr>\n",
       "    <tr>\n",
       "      <th>3815</th>\n",
       "      <td>HEALTHY</td>\n",
       "    </tr>\n",
       "    <tr>\n",
       "      <th>3816</th>\n",
       "      <td>HEALTHY</td>\n",
       "    </tr>\n",
       "    <tr>\n",
       "      <th>3817</th>\n",
       "      <td>HISPA</td>\n",
       "    </tr>\n",
       "    <tr>\n",
       "      <th>3818</th>\n",
       "      <td>BROWN SPOT</td>\n",
       "    </tr>\n",
       "  </tbody>\n",
       "</table>\n",
       "<p>3819 rows × 1 columns</p>\n",
       "</div>"
      ],
      "text/plain": [
       "        Diseases\n",
       "0     LEAF BLAST\n",
       "1        HEALTHY\n",
       "2     LEAF BLAST\n",
       "3     LEAF BLAST\n",
       "4          HISPA\n",
       "...          ...\n",
       "3814       HISPA\n",
       "3815     HEALTHY\n",
       "3816     HEALTHY\n",
       "3817       HISPA\n",
       "3818  BROWN SPOT\n",
       "\n",
       "[3819 rows x 1 columns]"
      ]
     },
     "execution_count": 9,
     "metadata": {},
     "output_type": "execute_result"
    }
   ],
   "source": [
    "import pandas as pd\n",
    "df1=pd.DataFrame(Y,columns=['Diseases'])\n",
    "df1"
   ]
  },
  {
   "cell_type": "code",
   "execution_count": 10,
   "id": "5b86cf80",
   "metadata": {},
   "outputs": [
    {
     "data": {
      "text/plain": [
       "(3819, 3819)"
      ]
     },
     "execution_count": 10,
     "metadata": {},
     "output_type": "execute_result"
    }
   ],
   "source": [
    "len(X_train),len(y_train)\n"
   ]
  },
  {
   "cell_type": "code",
   "execution_count": 11,
   "id": "d642104b",
   "metadata": {},
   "outputs": [],
   "source": [
    "X_test=[]\n",
    "y_test=[]\n",
    "\n",
    "for features,label in test_data:\n",
    "    X_test.append(features)\n",
    "    y_test.append(label)"
   ]
  },
  {
   "cell_type": "code",
   "execution_count": 12,
   "id": "0664a78f",
   "metadata": {},
   "outputs": [],
   "source": [
    "Z=[]\n",
    "for i in y_test:\n",
    "    if i==0:\n",
    "        Z.append(\"BROWN SPOT\")\n",
    " \n",
    "    elif i==1:\n",
    "        Z.append(\"HEALTHY\")\n",
    "    elif i==2:\n",
    "        Z.append(\"HISPA\")\n",
    "    else :\n",
    "        Z.append(\"LEAF BLAST\")\n"
   ]
  },
  {
   "cell_type": "code",
   "execution_count": 13,
   "id": "040d62e3",
   "metadata": {},
   "outputs": [
    {
     "data": {
      "text/html": [
       "<div>\n",
       "<style scoped>\n",
       "    .dataframe tbody tr th:only-of-type {\n",
       "        vertical-align: middle;\n",
       "    }\n",
       "\n",
       "    .dataframe tbody tr th {\n",
       "        vertical-align: top;\n",
       "    }\n",
       "\n",
       "    .dataframe thead th {\n",
       "        text-align: right;\n",
       "    }\n",
       "</style>\n",
       "<table border=\"1\" class=\"dataframe\">\n",
       "  <thead>\n",
       "    <tr style=\"text-align: right;\">\n",
       "      <th></th>\n",
       "      <th>Diseases</th>\n",
       "    </tr>\n",
       "  </thead>\n",
       "  <tbody>\n",
       "    <tr>\n",
       "      <th>0</th>\n",
       "      <td>HEALTHY</td>\n",
       "    </tr>\n",
       "    <tr>\n",
       "      <th>1</th>\n",
       "      <td>LEAF BLAST</td>\n",
       "    </tr>\n",
       "    <tr>\n",
       "      <th>2</th>\n",
       "      <td>BROWN SPOT</td>\n",
       "    </tr>\n",
       "    <tr>\n",
       "      <th>3</th>\n",
       "      <td>HISPA</td>\n",
       "    </tr>\n",
       "    <tr>\n",
       "      <th>4</th>\n",
       "      <td>HEALTHY</td>\n",
       "    </tr>\n",
       "    <tr>\n",
       "      <th>...</th>\n",
       "      <td>...</td>\n",
       "    </tr>\n",
       "    <tr>\n",
       "      <th>1623</th>\n",
       "      <td>BROWN SPOT</td>\n",
       "    </tr>\n",
       "    <tr>\n",
       "      <th>1624</th>\n",
       "      <td>LEAF BLAST</td>\n",
       "    </tr>\n",
       "    <tr>\n",
       "      <th>1625</th>\n",
       "      <td>HEALTHY</td>\n",
       "    </tr>\n",
       "    <tr>\n",
       "      <th>1626</th>\n",
       "      <td>HISPA</td>\n",
       "    </tr>\n",
       "    <tr>\n",
       "      <th>1627</th>\n",
       "      <td>HISPA</td>\n",
       "    </tr>\n",
       "  </tbody>\n",
       "</table>\n",
       "<p>1628 rows × 1 columns</p>\n",
       "</div>"
      ],
      "text/plain": [
       "        Diseases\n",
       "0        HEALTHY\n",
       "1     LEAF BLAST\n",
       "2     BROWN SPOT\n",
       "3          HISPA\n",
       "4        HEALTHY\n",
       "...          ...\n",
       "1623  BROWN SPOT\n",
       "1624  LEAF BLAST\n",
       "1625     HEALTHY\n",
       "1626       HISPA\n",
       "1627       HISPA\n",
       "\n",
       "[1628 rows x 1 columns]"
      ]
     },
     "execution_count": 13,
     "metadata": {},
     "output_type": "execute_result"
    }
   ],
   "source": [
    "df2=pd.DataFrame(Z,columns=['Diseases'])\n",
    "df2"
   ]
  },
  {
   "cell_type": "code",
   "execution_count": 14,
   "id": "51aab865",
   "metadata": {},
   "outputs": [
    {
     "data": {
      "text/plain": [
       "(1628, 1628)"
      ]
     },
     "execution_count": 14,
     "metadata": {},
     "output_type": "execute_result"
    }
   ],
   "source": [
    "len(X_test),len(y_test)\n"
   ]
  },
  {
   "cell_type": "code",
   "execution_count": 15,
   "id": "2e6bff92",
   "metadata": {},
   "outputs": [
    {
     "data": {
      "text/plain": [
       "(1628, 64, 64, 3)"
      ]
     },
     "execution_count": 15,
     "metadata": {},
     "output_type": "execute_result"
    }
   ],
   "source": [
    "X_train=np.array(X_train).reshape(-1,64,64,3)\n",
    "X_train=X_train/255.0\n",
    "X_train.shape\n",
    "\n",
    "X_test=np.array(X_test).reshape(-1,64,64,3)\n",
    "X_test=X_test/255.0\n",
    "X_test.shape\n"
   ]
  },
  {
   "cell_type": "code",
   "execution_count": 16,
   "id": "402d679a",
   "metadata": {},
   "outputs": [],
   "source": [
    "order=['BROWN SPOT',\"HEALTHY\",\"HISPA\" ,'LEAF BLAST']"
   ]
  },
  {
   "cell_type": "code",
   "execution_count": 17,
   "id": "82df72f3",
   "metadata": {},
   "outputs": [
    {
     "data": {
      "image/png": "[encoded data removed]",
      "text/plain": [
       "<Figure size 432x288 with 1 Axes>"
      ]
     },
     "metadata": {
      "needs_background": "light"
     },
     "output_type": "display_data"
    }
   ],
   "source": [
    "sns.countplot(x=\"Diseases\", data=df1,order=order)\n",
    "plt.title(\"Image Count by Disease\")\n",
    "plt.xlabel(\"Disease\")\n",
    "plt.ylabel(\"Number of Images\")\n",
    "plt.xticks(rotation=45,ha='right')\n",
    "plt.show()"
   ]
  },
  {
   "cell_type": "code",
   "execution_count": 18,
   "id": "c113b126",
   "metadata": {},
   "outputs": [
    {
     "data": {
      "image/png": "[encoded data removed]",
      "text/plain": [
       "<Figure size 432x288 with 1 Axes>"
      ]
     },
     "metadata": {
      "needs_background": "light"
     },
     "output_type": "display_data"
    }
   ],
   "source": [
    "sns.countplot(x=\"Diseases\", data=df2,order=order)\n",
    "plt.title(\"Image Count by Disease\")\n",
    "plt.xlabel(\"Disease\")\n",
    "plt.ylabel(\"Number of Images\")\n",
    "plt.xticks(rotation=45,ha='right')\n",
    "plt.show()\n"
   ]
  },
  {
   "cell_type": "code",
   "execution_count": 22,
   "id": "3051076b",
   "metadata": {},
   "outputs": [
    {
     "ename": "SyntaxError",
     "evalue": "invalid syntax (Temp/ipykernel_2884/1880523695.py, line 48)",
     "output_type": "error",
     "traceback": [
      "\u001b[1;36m  File \u001b[1;32m\"C:\\Users\\ASHUTO~1\\AppData\\Local\\Temp/ipykernel_2884/1880523695.py\"\u001b[1;36m, line \u001b[1;32m48\u001b[0m\n\u001b[1;33m    classifier.add(Dropout(0.4))\u001b[0m\n\u001b[1;37m    ^\u001b[0m\n\u001b[1;31mSyntaxError\u001b[0m\u001b[1;31m:\u001b[0m invalid syntax\n"
     ]
    }
   ],
   "source": [
    "# import keras\n",
    "# from keras.utils import to_categorical\n",
    "\n",
    "# from keras.models import Sequential\n",
    "\n",
    "# from keras.layers import  Conv2D,Dense,Flatten,MaxPooling2D,Dropout, Activation\n",
    "\n",
    "# from keras.layers.normalization import BatchNormalization\n",
    "\n",
    "# import numpy as np\n",
    "\n",
    "# image_shape=(227,222,3)\n",
    "\n",
    "# np.random.seed(1000)\n",
    "# one_hot_train=to_categorical(y_train)\n",
    "# one_hot_test=to_categorical(y_test)\n",
    "\n",
    "# classifier=Sequential()\n",
    "\n",
    "# classifier.add(Conv2D(filters=96, input_shape=image_shape, kernel_size=(11,11), strides=(4,4), padding=\"valid\"))\n",
    "# classifier.add(Activation(\"relu\"))\n",
    "\n",
    "# classifier.add(MaxPooling2D(pool_size=(3,3),strides=(1,1),padding=\"valid\"))\n",
    "\n",
    "# classifier.add(Conv2D(filters=256, kernel_size=(5,5), strides=(1,1), padding=\"valid\"))\n",
    "# classifier.add(Activation(\"relu\"))\n",
    "\n",
    "# classifier.add(MaxPooling2D(pool_size=(3,3),strides=(2,2),padding=\"valid\"))\n",
    "\n",
    "# classifier.add(Conv2D(filters=384, kernel_size=(3,3), strides=(1,1), padding=\"valid\"))\n",
    "# classifier.add(Activation(\"relu\"))\n",
    "# classifier.add(Conv2D(filters=384, kernel_size=(3,3), strides=(1,1), padding=\"valid\"))\n",
    "# classifier.add(Activation(\"relu\"))\n",
    "# classifier.add(Conv2D(filters=256, kernel_size=(3,3), strides=(1,1), padding=\"valid\"))\n",
    "# classifier.add(Activation(\"relu\"))\n",
    "\n",
    "# classifier.add(MaxPooling2D(pool_size=(3,3),strides=(2,2),padding=\"valid\"))\n",
    "\n",
    "# classifier.add(flatten())\n",
    "# classifier.add(Dense(4096, input_shape=(227*227*3,)))\n",
    "# classifier.add(Activation(\"relu\"))\n",
    "\n",
    "# classifier.add(Dropout(0.4))\n",
    "\n",
    "# classifier.add(Dense(4096))\n",
    "# classifier.add(Activation(\"relu\")\n",
    "               \n",
    "# classifier.add(Dropout(0.4))\n",
    "\n",
    "# classifier.add(Dense(1000))\n",
    "# classifier.add(Activation(\"softmax\")\n",
    "# model.summary()\n",
    "\n",
    "# classifier.compile(optimizer='adam', loss=losees.categorical_crossentropy, metrics=['accuracy'])\n",
    "\n",
    "\n",
    "\n",
    "\n"
   ]
  },
  {
   "cell_type": "code",
   "execution_count": 23,
   "id": "5928e082",
   "metadata": {
    "scrolled": true
   },
   "outputs": [
    {
     "name": "stdout",
     "output_type": "stream",
     "text": [
      "Model: \"sequential\"\n",
      "_________________________________________________________________\n",
      " Layer (type)                Output Shape              Param #   \n",
      "=================================================================\n",
      " conv2d (Conv2D)             (None, 62, 62, 32)        896       \n",
      "                                                                 \n",
      " max_pooling2d (MaxPooling2D  (None, 31, 31, 32)       0         \n",
      " )                                                               \n",
      "                                                                 \n",
      " dropout (Dropout)           (None, 31, 31, 32)        0         \n",
      "                                                                 \n",
      " conv2d_1 (Conv2D)           (None, 29, 29, 64)        18496     \n",
      "                                                                 \n",
      " max_pooling2d_1 (MaxPooling  (None, 14, 14, 64)       0         \n",
      " 2D)                                                             \n",
      "                                                                 \n",
      " dropout_1 (Dropout)         (None, 14, 14, 64)        0         \n",
      "                                                                 \n",
      " conv2d_2 (Conv2D)           (None, 12, 12, 128)       73856     \n",
      "                                                                 \n",
      " max_pooling2d_2 (MaxPooling  (None, 6, 6, 128)        0         \n",
      " 2D)                                                             \n",
      "                                                                 \n",
      " dropout_2 (Dropout)         (None, 6, 6, 128)         0         \n",
      "                                                                 \n",
      " flatten (Flatten)           (None, 4608)              0         \n",
      "                                                                 \n",
      " dense (Dense)               (None, 64)                294976    \n",
      "                                                                 \n",
      " dense_1 (Dense)             (None, 128)               8320      \n",
      "                                                                 \n",
      " dense_2 (Dense)             (None, 64)                8256      \n",
      "                                                                 \n",
      " dense_3 (Dense)             (None, 4)                 260       \n",
      "                                                                 \n",
      "=================================================================\n",
      "Total params: 405,060\n",
      "Trainable params: 405,060\n",
      "Non-trainable params: 0\n",
      "_________________________________________________________________\n"
     ]
    }
   ],
   "source": [
    "\n",
    "\n",
    "from keras.utils import to_categorical\n",
    "from tensorflow.keras.models import Sequential\n",
    "from tensorflow.keras.layers import Conv2D,Dense,Flatten,MaxPooling2D,Dropout\n",
    "\n",
    "one_hot_train=to_categorical(y_train)\n",
    "# one_hot_train\n",
    "\n",
    "one_hot_test=to_categorical(y_test)\n",
    "# one_hot_test\n",
    "\n",
    "classifier=Sequential()\n",
    "\n",
    "classifier.add(Conv2D(32,(3,3), input_shape=(64,64,3), activation='relu'))\n",
    "classifier.add(MaxPooling2D(pool_size=(2,2)))\n",
    "classifier.add(Dropout(0.2))\n",
    "\n",
    "classifier.add(Conv2D(64,(3,3), activation='relu'))\n",
    "classifier.add(MaxPooling2D(pool_size=(2,2)))\n",
    "classifier.add(Dropout(0.2))\n",
    "\n",
    "classifier.add(Conv2D(128,(3,3), activation='relu'))\n",
    "classifier.add(MaxPooling2D(pool_size=(2,2)))\n",
    "classifier.add(Dropout(0.4))\n",
    "\n",
    "classifier.add(Flatten())\n",
    "\n",
    "classifier.add(Dense(activation='relu', units=64))\n",
    "classifier.add(Dense(activation='relu', units=128))\n",
    "classifier.add(Dense(activation='relu', units=64))\n",
    "classifier.add(Dense(activation='softmax', units=4))\n",
    "\n",
    "classifier.compile(optimizer='adam', loss='categorical_crossentropy', metrics=['accuracy'])\n",
    "\n",
    "classifier.summary()\n"
   ]
  },
  {
   "cell_type": "code",
   "execution_count": 131,
   "id": "9225fcba",
   "metadata": {
    "scrolled": true
   },
   "outputs": [
    {
     "name": "stdout",
     "output_type": "stream",
     "text": [
      "Epoch 1/10\n",
      "24/24 [==============================] - 7s 303ms/step - loss: 0.1371 - accuracy: 0.9529 - val_loss: 1.5336 - val_accuracy: 0.6387\n",
      "Epoch 2/10\n",
      "24/24 [==============================] - 7s 294ms/step - loss: 0.1279 - accuracy: 0.9506 - val_loss: 1.6631 - val_accuracy: 0.6387\n",
      "Epoch 3/10\n",
      "24/24 [==============================] - 7s 279ms/step - loss: 0.1046 - accuracy: 0.9637 - val_loss: 1.7549 - val_accuracy: 0.6361\n",
      "Epoch 4/10\n",
      "24/24 [==============================] - 6s 265ms/step - loss: 0.1339 - accuracy: 0.9499 - val_loss: 1.7610 - val_accuracy: 0.6466\n",
      "Epoch 5/10\n",
      "24/24 [==============================] - 7s 277ms/step - loss: 0.1519 - accuracy: 0.9444 - val_loss: 1.6343 - val_accuracy: 0.6322\n",
      "Epoch 6/10\n",
      "24/24 [==============================] - 7s 275ms/step - loss: 0.1272 - accuracy: 0.9519 - val_loss: 1.6961 - val_accuracy: 0.6374\n",
      "Epoch 7/10\n",
      "24/24 [==============================] - 7s 272ms/step - loss: 0.1243 - accuracy: 0.9558 - val_loss: 1.7861 - val_accuracy: 0.6296\n",
      "Epoch 8/10\n",
      "24/24 [==============================] - 6s 266ms/step - loss: 0.1252 - accuracy: 0.9538 - val_loss: 1.6636 - val_accuracy: 0.6374\n",
      "Epoch 9/10\n",
      "24/24 [==============================] - 6s 259ms/step - loss: 0.1161 - accuracy: 0.9597 - val_loss: 1.7210 - val_accuracy: 0.6283\n",
      "Epoch 10/10\n",
      "24/24 [==============================] - 6s 258ms/step - loss: 0.1188 - accuracy: 0.9571 - val_loss: 1.7876 - val_accuracy: 0.6283\n"
     ]
    }
   ],
   "source": [
    "hist=classifier.fit(X_train,one_hot_train,epochs=10,batch_size=128,validation_split=0.2)"
   ]
  },
  {
   "cell_type": "code",
   "execution_count": 136,
   "id": "0f2d1d1f",
   "metadata": {
    "scrolled": false
   },
   "outputs": [
    {
     "name": "stdout",
     "output_type": "stream",
     "text": [
      "120/120 [==============================] - 2s 19ms/step - loss: 0.3784 - accuracy: 0.9222\n"
     ]
    },
    {
     "data": {
      "text/plain": [
       "(0.3784013092517853, 0.9222309589385986)"
      ]
     },
     "execution_count": 136,
     "metadata": {},
     "output_type": "execute_result"
    }
   ],
   "source": [
    "train_loss,train_acc=classifier.evaluate(X_train,one_hot_train)\n",
    "train_loss,train_acc"
   ]
  },
  {
   "cell_type": "code",
   "execution_count": 137,
   "id": "366c377b",
   "metadata": {},
   "outputs": [
    {
     "name": "stdout",
     "output_type": "stream",
     "text": [
      "51/51 [==============================] - 1s 19ms/step - loss: 0.6721 - accuracy: 0.8507\n"
     ]
    },
    {
     "data": {
      "text/plain": [
       "(0.6721305847167969, 0.8507370948791504)"
      ]
     },
     "execution_count": 137,
     "metadata": {},
     "output_type": "execute_result"
    }
   ],
   "source": [
    "test_loss,test_acc=classifier.evaluate(X_test,one_hot_test)\n",
    "test_loss,test_acc"
   ]
  },
  {
   "cell_type": "code",
   "execution_count": 157,
   "id": "5a23ccbd",
   "metadata": {},
   "outputs": [],
   "source": [
    "# #function to calculate accuracy\n",
    "# from sklearn import metrics\n",
    "# from sklearn.metrics import precision_score\n",
    "# from sklearn.metrics import recall_score\n",
    "# from sklearn.metrics import f1_score\n",
    "# from sklearn.metrics import accuracy_score\n",
    "# #function to calculate accuracy\n",
    "# def accuracy(model):\n",
    "#   # accuracy score on the training data\n",
    "#   X_train_prediction = model.predict(X_train)\n",
    "#   training_data_accuracy = accuracy_score(X_train_prediction, y_train)\n",
    "#   print('Accuracy score of the training data : ', training_data_accuracy)\n",
    "\n",
    "#   # accuracy score on the test data\n",
    "#   X_test_prediction = model.predict(X_test)\n",
    "#   test_data_accuracy = accuracy_score(X_test_prediction, y_test)\n",
    "#   print('Accuracy score of the test data : ', test_data_accuracy)  \n",
    "\n",
    "# #function to calculate precision\n",
    "# def precision(model):\n",
    "#   # precision score on the training data\n",
    "#   X_train_prediction = model.predict(X_train)\n",
    "#   training_data_precision = precision_score(X_train_prediction, y_train)\n",
    "#   print('\\nPrecision of the training data : ', training_data_precision)\n",
    "\n",
    "#   # precision score on the test data\n",
    "#   X_test_prediction = model.predict(X_test)\n",
    "#   test_data_precision = precision_score(X_test_prediction, y_test)\n",
    "#   print('Precision of the test data : ', test_data_precision)\n",
    "\n",
    "# #function to calculate recall\n",
    "# def recall(model):\n",
    "#   # recall score on the training data\n",
    "#   X_train_prediction = model.predict(X_train)\n",
    "#   training_data_recall = recall_score(X_train_prediction, y_train)\n",
    "#   print('\\nRecall of the training data : ', training_data_recall)\n",
    "\n",
    "#   # recall score on the test data\n",
    "#   X_test_prediction = model.predict(X_test)\n",
    "#   test_data_recall = recall_score(X_test_prediction, y_test)\n",
    "#   print('Recall of the test data : ', test_data_recall)\n",
    "\n",
    "# #function to calculate f1_score\n",
    "# def f1score(model):\n",
    "#   # f1_score on the training data\n",
    "#   X_train_prediction = model.predict(X_train)\n",
    "#   training_data_f1_score = f1_score(X_train_prediction, y_train)\n",
    "#   print('\\nf1_score of the training data : ', training_data_f1_score)\n",
    "\n",
    "#   # f1_score on the test data\n",
    "#   X_test_prediction = model.predict(X_test)\n",
    "#   test_data_f1_score = f1_score(X_test_prediction, y_test)\n",
    "#   print('f1_score of the test data : ', test_data_f1_score)"
   ]
  },
  {
   "cell_type": "code",
   "execution_count": 161,
   "id": "b970ff5b",
   "metadata": {},
   "outputs": [],
   "source": [
    "# hist.predict(accuracy)"
   ]
  },
  {
   "cell_type": "code",
   "execution_count": 138,
   "id": "677f8716",
   "metadata": {},
   "outputs": [
    {
     "data": {
      "image/png": "[encoded data removed]",
      "text/plain": [
       "<Figure size 432x288 with 1 Axes>"
      ]
     },
     "metadata": {
      "needs_background": "light"
     },
     "output_type": "display_data"
    },
    {
     "data": {
      "image/png": "[encoded data removed]",
      "text/plain": [
       "<Figure size 432x288 with 1 Axes>"
      ]
     },
     "metadata": {
      "needs_background": "light"
     },
     "output_type": "display_data"
    },
    {
     "name": "stdout",
     "output_type": "stream",
     "text": [
      "51/51 [==============================] - 1s 20ms/step\n",
      "51/51 [==============================] - 1s 21ms/step\n"
     ]
    },
    {
     "data": {
      "text/plain": [
       "<matplotlib.legend.Legend at 0x2531b290d90>"
      ]
     },
     "execution_count": 138,
     "metadata": {},
     "output_type": "execute_result"
    },
    {
     "data": {
      "image/png": "[encoded data removed]",
      "text/plain": [
       "<Figure size 432x288 with 1 Axes>"
      ]
     },
     "metadata": {
      "needs_background": "light"
     },
     "output_type": "display_data"
    }
   ],
   "source": [
    "plt.plot(hist.history['loss'])\n",
    "plt.plot(hist.history['val_loss'])\n",
    "plt.title('Training and Validation Loss')\n",
    "plt.ylabel('Loss')\n",
    "plt.xlabel('Epoch')\n",
    "plt.legend(['Train','Val'],loc='upper right')\n",
    "plt.show()\n",
    "\n",
    "plt.plot(hist.history['accuracy'])\n",
    "plt.plot(hist.history['val_accuracy'])\n",
    "plt.title('Training and Validation Accuracy')\n",
    "plt.ylabel('Accuracy')\n",
    "plt.xlabel('Epoch')\n",
    "plt.legend(['Train','Val'],loc='upper left')\n",
    "plt.show()\n",
    "\n",
    "# y_pred=classifier.predict_classes(X_test)\n",
    "y_pred=np.argmax(classifier.predict(X_test), axis=-1)\n",
    "\n",
    "# y_pred\n",
    "\n",
    "# y_prob=classifier.predict_proba(X_test)\n",
    "y_prob=classifier.predict(X_test)\n",
    "# y_prob\n",
    "from sklearn.metrics import roc_curve, auc\n",
    "\n",
    "fpr = {}\n",
    "tpr = {}\n",
    "thresh ={}\n",
    "roc_auc={}\n",
    "n_class = 4\n",
    "for i in range(n_class):    \n",
    "    fpr[i], tpr[i], thresh[i] = roc_curve(y_test, y_prob[:,i], pos_label=i)\n",
    "    roc_auc[i] = auc(fpr[i], tpr[i])\n",
    "      \n",
    "plt.plot(fpr[0], tpr[0], color='orange',label='Brown Spot AUC = %0.3f' % roc_auc[0])\n",
    "plt.plot(fpr[1], tpr[1], color='green',label='Healthy AUC = %0.3f' % roc_auc[1])\n",
    "plt.plot(fpr[2], tpr[2], color='blue',label='Hispa AUC = %0.3f' % roc_auc[2])\n",
    "plt.plot(fpr[3], tpr[3], color='red',label='Leaf Blast AUC = %0.3f' % roc_auc[3])\n",
    "\n",
    "plt.title('Paddy Leaves Diseases ROC curve')\n",
    "plt.xlabel('False Positive Rate')\n",
    "plt.ylabel('True Positive rate')\n",
    "plt.legend(loc='best')"
   ]
  },
  {
   "cell_type": "code",
   "execution_count": 135,
   "id": "2f4f751a",
   "metadata": {},
   "outputs": [
    {
     "data": {
      "image/png": "[encoded data removed]",
      "text/plain": [
       "<Figure size 432x288 with 2 Axes>"
      ]
     },
     "metadata": {
      "needs_background": "light"
     },
     "output_type": "display_data"
    }
   ],
   "source": [
    "cm=confusion_matrix(y_test,y_pred)\n",
    "fig, ax = plt.subplots(figsize=(6,4))\n",
    "\n",
    "sns.heatmap(cm, annot=True,fmt='d', cmap='Blues', xticklabels=order, yticklabels=order,linewidths=1,linecolor='black')\n",
    "plt.title('Confusion Matrix')\n",
    "plt.xlabel(\"Predicted Label\")\n",
    "plt.ylabel(\"True Label\")\n",
    "plt.show()"
   ]
  },
  {
   "cell_type": "code",
   "execution_count": null,
   "id": "13249052",
   "metadata": {},
   "outputs": [],
   "source": []
  },
  {
   "cell_type": "code",
   "execution_count": 127,
   "id": "2b0e059d",
   "metadata": {},
   "outputs": [],
   "source": [
    "classifier.save(\"CNN.h5\")\n"
   ]
  },
  {
   "cell_type": "code",
   "execution_count": 163,
   "id": "3f2ee3e0",
   "metadata": {},
   "outputs": [
    {
     "name": "stdout",
     "output_type": "stream",
     "text": [
      "1/1 [==============================] - 0s 97ms/step\n",
      "BROWN SPOT---->0.00021\n",
      "HEALTHY---->0.23803\n",
      "HISPA---->99.76146\n",
      "LEAF BLAST---->0.00029\n"
     ]
    },
    {
     "data": {
      "image/png": "[encoded data removed]",
      "text/plain": [
       "<Figure size 432x288 with 1 Axes>"
      ]
     },
     "metadata": {
      "needs_background": "light"
     },
     "output_type": "display_data"
    }
   ],
   "source": [
    "# need edit \n",
    "\n",
    "\n",
    "\n",
    "from numpy import loadtxt\n",
    "from keras.models import load_model\n",
    "from tensorflow.keras.utils import load_img\n",
    "from tensorflow.keras.utils import img_to_array\n",
    "import tensorflow as tf\n",
    "import matplotlib.pyplot as plt\n",
    "import matplotlib.image as mpimg\n",
    "def load_image(filename):\n",
    "    img = load_img(filename, target_size=(64, 64))\n",
    "    img = img_to_array(img)\n",
    "    img = img.reshape(1, 64, 64, 3)\n",
    "    img = img.astype('float32')\n",
    "    img = img / 255.0\n",
    "    return img\n",
    "test_image = load_image(\"C:\\\\Users\\\\Ashutosh Tripathi\\\\Desktop\\\\IMG_20190424_133538.jpg\")\n",
    "img = mpimg.imread(\"C:\\\\Users\\\\Ashutosh Tripathi\\\\Desktop\\\\IMG_20190424_133538.jpg\")\n",
    "plt.imshow(img)\n",
    "# load model\n",
    "classifier = tf.keras.models.load_model('./CNN.h5')\n",
    "classes = classifier.predict(test_image)[0]\n",
    "order=['BROWN SPOT',\"HEALTHY\",\"HISPA\" ,'LEAF BLAST']\n",
    "for i in range(len(order)):\n",
    "    print(order[i]+\"---->%2.5f\" % (classes[i]*100))"
   ]
  },
  {
   "cell_type": "code",
   "execution_count": null,
   "id": "99e7887b",
   "metadata": {},
   "outputs": [],
   "source": []
  },
  {
   "cell_type": "code",
   "execution_count": null,
   "id": "bd6869aa",
   "metadata": {},
   "outputs": [],
   "source": []
  }
 ],
 "metadata": {
  "kernelspec": {
   "display_name": "Python 3 (ipykernel)",
   "language": "python",
   "name": "python3"
  },
  "language_info": {
   "codemirror_mode": {
    "name": "ipython",
    "version": 3
   },
   "file_extension": ".py",
   "mimetype": "text/x-python",
   "name": "python",
   "nbconvert_exporter": "python",
   "pygments_lexer": "ipython3",
   "version": "3.9.7"
  }
 },
 "nbformat": 4,
 "nbformat_minor": 5
}
