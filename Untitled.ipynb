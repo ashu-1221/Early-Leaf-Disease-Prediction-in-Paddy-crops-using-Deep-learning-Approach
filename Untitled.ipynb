{
 "cells": [
  {
   "cell_type": "code",
   "execution_count": 9,
   "id": "631ac4cd",
   "metadata": {},
   "outputs": [],
   "source": [
    "from keras.layers import Input, Dense, Flatten\n",
    "from keras.models import Model\n",
    "from keras.applications import ResNet101\n",
    "from keras.layers import Dense\n",
    "from keras.preprocessing import image\n",
    "from keras.preprocessing.image import ImageDataGenerator\n",
    "from keras.models import Sequential\n",
    "import numpy as np\n",
    "import keras"
   ]
  },
  {
   "cell_type": "code",
   "execution_count": 10,
   "id": "9c74e4ea",
   "metadata": {},
   "outputs": [],
   "source": [
    "IMAGE_SIZE = [224, 224]\n",
    "\n",
    "train_path = 'ldataset\\\\data set\\\\train'\n",
    "valid_path = 'ldataset\\\\data set\\\\test'"
   ]
  },
  {
   "cell_type": "code",
   "execution_count": 11,
   "id": "1d0e9775",
   "metadata": {},
   "outputs": [],
   "source": [
    "res = ResNet101(input_shape=IMAGE_SIZE + [3], weights='imagenet', include_top=False)\n"
   ]
  },
  {
   "cell_type": "code",
   "execution_count": 12,
   "id": "c8def6db",
   "metadata": {},
   "outputs": [],
   "source": [
    "for layer in res.layers:\n",
    "    layer.trainable = False"
   ]
  },
  {
   "cell_type": "code",
   "execution_count": 13,
   "id": "0550ff96",
   "metadata": {},
   "outputs": [],
   "source": [
    "model = keras.Sequential([\n",
    "    res,\n",
    "    keras.layers.Flatten(),\n",
    "    keras.layers.Dense(units=256,activation=\"relu\"),\n",
    "    \n",
    "    keras.layers.Dense(units=4,activation=\"softmax\"),\n",
    "])"
   ]
  },
  {
   "cell_type": "code",
   "execution_count": 14,
   "id": "b9cd7692",
   "metadata": {},
   "outputs": [
    {
     "name": "stdout",
     "output_type": "stream",
     "text": [
      "Model: \"sequential_1\"\n",
      "_________________________________________________________________\n",
      " Layer (type)                Output Shape              Param #   \n",
      "=================================================================\n",
      " resnet101 (Functional)      (None, 7, 7, 2048)        42658176  \n",
      "                                                                 \n",
      " flatten_1 (Flatten)         (None, 100352)            0         \n",
      "                                                                 \n",
      " dense_2 (Dense)             (None, 256)               25690368  \n",
      "                                                                 \n",
      " dense_3 (Dense)             (None, 4)                 1028      \n",
      "                                                                 \n",
      "=================================================================\n",
      "Total params: 68,349,572\n",
      "Trainable params: 25,691,396\n",
      "Non-trainable params: 42,658,176\n",
      "_________________________________________________________________\n"
     ]
    }
   ],
   "source": [
    "model.summary()"
   ]
  },
  {
   "cell_type": "code",
   "execution_count": 17,
   "id": "07e01e27",
   "metadata": {},
   "outputs": [],
   "source": [
    "model.compile(\n",
    "loss='categorical_crossentropy',\n",
    "metrics=['accuracy'],\n",
    "optimizer='adam',\n",
    ")"
   ]
  },
  {
   "cell_type": "code",
   "execution_count": 18,
   "id": "99ac621c",
   "metadata": {},
   "outputs": [],
   "source": [
    "from keras.preprocessing.image import ImageDataGenerator\n",
    "\n",
    "train_datagen = ImageDataGenerator(rescale = 1./255,\n",
    "                                   shear_range = 0.2,\n",
    "                                   zoom_range = 0.2,\n",
    "                                   horizontal_flip = True)\n",
    "\n",
    "test_datagen = ImageDataGenerator(rescale = 1./255)"
   ]
  },
  {
   "cell_type": "code",
   "execution_count": 19,
   "id": "25aa0844",
   "metadata": {},
   "outputs": [
    {
     "name": "stdout",
     "output_type": "stream",
     "text": [
      "Found 3819 images belonging to 4 classes.\n"
     ]
    }
   ],
   "source": [
    "training_set = train_datagen.flow_from_directory('ldataset\\\\data set\\\\train',\n",
    "                                                 target_size = (224, 224),\n",
    "                                                 batch_size = 32,\n",
    "                                                 class_mode = 'categorical')"
   ]
  },
  {
   "cell_type": "code",
   "execution_count": 20,
   "id": "1e81566d",
   "metadata": {},
   "outputs": [
    {
     "name": "stdout",
     "output_type": "stream",
     "text": [
      "Found 1628 images belonging to 4 classes.\n"
     ]
    }
   ],
   "source": [
    "test_set = test_datagen.flow_from_directory('ldataset\\\\data set\\\\test',\n",
    "                                            target_size = (224, 224),\n",
    "                                            batch_size = 32,\n",
    "                                            class_mode = 'categorical')"
   ]
  },
  {
   "cell_type": "code",
   "execution_count": 21,
   "id": "0d4b152f",
   "metadata": {},
   "outputs": [
    {
     "name": "stderr",
     "output_type": "stream",
     "text": [
      "C:\\Users\\ASHUTO~1\\AppData\\Local\\Temp/ipykernel_11272/1167563505.py:1: UserWarning: `Model.fit_generator` is deprecated and will be removed in a future version. Please use `Model.fit`, which supports generators.\n",
      "  r = model.fit_generator(\n"
     ]
    },
    {
     "name": "stdout",
     "output_type": "stream",
     "text": [
      "Epoch 1/50\n",
      "120/120 [==============================] - 577s 5s/step - loss: 2.7309 - accuracy: 0.3205 - val_loss: 1.5009 - val_accuracy: 0.3900\n",
      "Epoch 2/50\n",
      "120/120 [==============================] - 558s 5s/step - loss: 1.5464 - accuracy: 0.3519 - val_loss: 1.4860 - val_accuracy: 0.3814\n",
      "Epoch 3/50\n",
      "120/120 [==============================] - 559s 5s/step - loss: 1.4466 - accuracy: 0.3763 - val_loss: 1.3337 - val_accuracy: 0.3538\n",
      "Epoch 4/50\n",
      "120/120 [==============================] - 563s 5s/step - loss: 1.3222 - accuracy: 0.3998 - val_loss: 1.4939 - val_accuracy: 0.3139\n",
      "Epoch 5/50\n",
      "120/120 [==============================] - 780s 7s/step - loss: 1.3478 - accuracy: 0.3870 - val_loss: 1.3224 - val_accuracy: 0.4269\n",
      "Epoch 6/50\n",
      "120/120 [==============================] - 539s 4s/step - loss: 1.3483 - accuracy: 0.3799 - val_loss: 1.4357 - val_accuracy: 0.2899\n",
      "Epoch 7/50\n",
      "120/120 [==============================] - 489s 4s/step - loss: 1.2989 - accuracy: 0.4106 - val_loss: 1.3372 - val_accuracy: 0.3980\n",
      "Epoch 8/50\n",
      "120/120 [==============================] - 527s 4s/step - loss: 1.2991 - accuracy: 0.4116 - val_loss: 1.3502 - val_accuracy: 0.3311\n",
      "Epoch 9/50\n",
      "120/120 [==============================] - 500s 4s/step - loss: 1.2805 - accuracy: 0.4192 - val_loss: 1.2785 - val_accuracy: 0.4195\n",
      "Epoch 10/50\n",
      "120/120 [==============================] - 528s 4s/step - loss: 1.2560 - accuracy: 0.4271 - val_loss: 1.3657 - val_accuracy: 0.3882\n",
      "Epoch 11/50\n",
      "120/120 [==============================] - 637s 5s/step - loss: 1.2836 - accuracy: 0.4137 - val_loss: 1.3175 - val_accuracy: 0.4244\n",
      "Epoch 12/50\n",
      "120/120 [==============================] - 873s 7s/step - loss: 1.2422 - accuracy: 0.4328 - val_loss: 1.3296 - val_accuracy: 0.4165\n",
      "Epoch 13/50\n",
      "120/120 [==============================] - 823s 7s/step - loss: 1.2473 - accuracy: 0.4313 - val_loss: 1.2597 - val_accuracy: 0.4281\n",
      "Epoch 14/50\n",
      "120/120 [==============================] - 967s 8s/step - loss: 1.2343 - accuracy: 0.4336 - val_loss: 1.2974 - val_accuracy: 0.4220\n",
      "Epoch 15/50\n",
      "120/120 [==============================] - 845s 7s/step - loss: 1.2316 - accuracy: 0.4360 - val_loss: 1.2702 - val_accuracy: 0.4232\n",
      "Epoch 16/50\n",
      "120/120 [==============================] - 2098s 18s/step - loss: 1.2315 - accuracy: 0.4415 - val_loss: 1.2817 - val_accuracy: 0.3980\n",
      "Epoch 17/50\n",
      "120/120 [==============================] - 759s 6s/step - loss: 1.2327 - accuracy: 0.4517 - val_loss: 1.2794 - val_accuracy: 0.4201\n",
      "Epoch 18/50\n",
      "120/120 [==============================] - 887s 7s/step - loss: 1.2284 - accuracy: 0.4446 - val_loss: 1.2697 - val_accuracy: 0.4158\n",
      "Epoch 19/50\n",
      "120/120 [==============================] - 483s 4s/step - loss: 1.2275 - accuracy: 0.4331 - val_loss: 1.2617 - val_accuracy: 0.4085\n",
      "Epoch 20/50\n",
      "120/120 [==============================] - 734s 6s/step - loss: 1.2259 - accuracy: 0.4389 - val_loss: 1.2928 - val_accuracy: 0.4244\n",
      "Epoch 21/50\n",
      "120/120 [==============================] - 520s 4s/step - loss: 1.2031 - accuracy: 0.4624 - val_loss: 1.2892 - val_accuracy: 0.4281\n",
      "Epoch 22/50\n",
      "120/120 [==============================] - 614s 5s/step - loss: 1.2243 - accuracy: 0.4373 - val_loss: 1.2690 - val_accuracy: 0.4140\n",
      "Epoch 23/50\n",
      "120/120 [==============================] - 490s 4s/step - loss: 1.2280 - accuracy: 0.4336 - val_loss: 1.3374 - val_accuracy: 0.3986\n",
      "Epoch 24/50\n",
      "120/120 [==============================] - 492s 4s/step - loss: 1.2151 - accuracy: 0.4530 - val_loss: 1.2519 - val_accuracy: 0.4269\n",
      "Epoch 25/50\n",
      "120/120 [==============================] - 498s 4s/step - loss: 1.2191 - accuracy: 0.4548 - val_loss: 1.2809 - val_accuracy: 0.4214\n",
      "Epoch 26/50\n",
      "120/120 [==============================] - 492s 4s/step - loss: 1.2131 - accuracy: 0.4491 - val_loss: 1.2233 - val_accuracy: 0.4392\n",
      "Epoch 27/50\n",
      "120/120 [==============================] - 505s 4s/step - loss: 1.2236 - accuracy: 0.4472 - val_loss: 1.2209 - val_accuracy: 0.4330\n",
      "Epoch 28/50\n",
      "120/120 [==============================] - 612s 5s/step - loss: 1.1974 - accuracy: 0.4609 - val_loss: 1.2679 - val_accuracy: 0.4324\n",
      "Epoch 29/50\n",
      "120/120 [==============================] - 505s 4s/step - loss: 1.2224 - accuracy: 0.4436 - val_loss: 1.2493 - val_accuracy: 0.4238\n",
      "Epoch 30/50\n",
      "120/120 [==============================] - 492s 4s/step - loss: 1.2347 - accuracy: 0.4334 - val_loss: 1.3207 - val_accuracy: 0.4140\n",
      "Epoch 31/50\n",
      "120/120 [==============================] - 562s 5s/step - loss: 1.2229 - accuracy: 0.4457 - val_loss: 1.3078 - val_accuracy: 0.4177\n",
      "Epoch 32/50\n",
      "120/120 [==============================] - 577s 5s/step - loss: 1.1983 - accuracy: 0.4614 - val_loss: 1.2103 - val_accuracy: 0.4435\n",
      "Epoch 33/50\n",
      "120/120 [==============================] - 585s 5s/step - loss: 1.1982 - accuracy: 0.4478 - val_loss: 1.2221 - val_accuracy: 0.4337\n",
      "Epoch 34/50\n",
      "120/120 [==============================] - 517s 4s/step - loss: 1.2116 - accuracy: 0.4446 - val_loss: 1.3327 - val_accuracy: 0.4011\n",
      "Epoch 35/50\n",
      "120/120 [==============================] - 765s 6s/step - loss: 1.2176 - accuracy: 0.4527 - val_loss: 1.3700 - val_accuracy: 0.4023\n",
      "Epoch 36/50\n",
      "120/120 [==============================] - 786s 7s/step - loss: 1.2288 - accuracy: 0.4527 - val_loss: 1.3269 - val_accuracy: 0.3919\n",
      "Epoch 37/50\n",
      "120/120 [==============================] - 2180s 18s/step - loss: 1.1966 - accuracy: 0.4603 - val_loss: 1.2125 - val_accuracy: 0.4509\n",
      "Epoch 38/50\n",
      "120/120 [==============================] - 568s 5s/step - loss: 1.1790 - accuracy: 0.4669 - val_loss: 1.2142 - val_accuracy: 0.4515\n",
      "Epoch 39/50\n",
      "120/120 [==============================] - 544s 5s/step - loss: 1.1878 - accuracy: 0.4684 - val_loss: 1.2598 - val_accuracy: 0.4545\n",
      "Epoch 40/50\n",
      "120/120 [==============================] - 560s 5s/step - loss: 1.1972 - accuracy: 0.4616 - val_loss: 1.2396 - val_accuracy: 0.4459\n",
      "Epoch 41/50\n",
      "120/120 [==============================] - 564s 5s/step - loss: 1.1952 - accuracy: 0.4598 - val_loss: 1.3300 - val_accuracy: 0.4208\n",
      "Epoch 42/50\n",
      "120/120 [==============================] - 574s 5s/step - loss: 1.1921 - accuracy: 0.4627 - val_loss: 1.2544 - val_accuracy: 0.4281\n",
      "Epoch 43/50\n",
      "120/120 [==============================] - 573s 5s/step - loss: 1.2025 - accuracy: 0.4522 - val_loss: 1.2417 - val_accuracy: 0.4294\n",
      "Epoch 44/50\n",
      "120/120 [==============================] - 558s 5s/step - loss: 1.1914 - accuracy: 0.4648 - val_loss: 1.3407 - val_accuracy: 0.4472\n",
      "Epoch 45/50\n",
      "120/120 [==============================] - 570s 5s/step - loss: 1.1801 - accuracy: 0.4653 - val_loss: 1.2498 - val_accuracy: 0.3900\n",
      "Epoch 46/50\n",
      "120/120 [==============================] - 582s 5s/step - loss: 1.2029 - accuracy: 0.4535 - val_loss: 1.2071 - val_accuracy: 0.4582\n",
      "Epoch 47/50\n",
      "120/120 [==============================] - 565s 5s/step - loss: 1.1891 - accuracy: 0.4653 - val_loss: 1.2989 - val_accuracy: 0.4324\n",
      "Epoch 48/50\n",
      "120/120 [==============================] - 560s 5s/step - loss: 1.1963 - accuracy: 0.4671 - val_loss: 1.2116 - val_accuracy: 0.4570\n",
      "Epoch 49/50\n",
      "120/120 [==============================] - 532s 4s/step - loss: 1.1768 - accuracy: 0.4661 - val_loss: 1.2025 - val_accuracy: 0.4576\n",
      "Epoch 50/50\n",
      "120/120 [==============================] - 491s 4s/step - loss: 1.1767 - accuracy: 0.4671 - val_loss: 1.2547 - val_accuracy: 0.4294\n"
     ]
    }
   ],
   "source": [
    "r = model.fit_generator(\n",
    "  training_set,\n",
    "  validation_data=test_set,\n",
    "  epochs=50,\n",
    "  steps_per_epoch=len(training_set),\n",
    "  validation_steps=len(test_set)\n",
    ")"
   ]
  },
  {
   "cell_type": "code",
   "execution_count": null,
   "id": "d984a2a7",
   "metadata": {},
   "outputs": [],
   "source": []
  },
  {
   "cell_type": "code",
   "execution_count": 22,
   "id": "8df3ee62",
   "metadata": {},
   "outputs": [
    {
     "data": {
      "image/png": "[encoded data removed]",
      "text/plain": [
       "<Figure size 432x288 with 1 Axes>"
      ]
     },
     "metadata": {
      "needs_background": "light"
     },
     "output_type": "display_data"
    }
   ],
   "source": [
    "import matplotlib.pyplot as plt\n",
    "plt.plot(r.history[\"accuracy\"])\n",
    "plt.plot(r.history['val_accuracy'])\n",
    "plt.plot(r.history['loss'])\n",
    "plt.plot(r.history['val_loss'])\n",
    "plt.title(\"model accuracy\")\n",
    "plt.ylabel(\"Accuracy\")\n",
    "plt.xlabel(\"Epoch\")\n",
    "plt.legend([\"Accuracy\",\"Validation Accuracy\",\"loss\",\"Validation Loss\"])\n",
    "plt.show()"
   ]
  },
  {
   "cell_type": "code",
   "execution_count": 31,
   "id": "0d0689f0",
   "metadata": {},
   "outputs": [],
   "source": [
    "model.save('res_clf.h5')"
   ]
  },
  {
   "cell_type": "code",
   "execution_count": null,
   "id": "6bfc13fc",
   "metadata": {},
   "outputs": [],
   "source": []
  }
 ],
 "metadata": {
  "kernelspec": {
   "display_name": "Python 3 (ipykernel)",
   "language": "python",
   "name": "python3"
  },
  "language_info": {
   "codemirror_mode": {
    "name": "ipython",
    "version": 3
   },
   "file_extension": ".py",
   "mimetype": "text/x-python",
   "name": "python",
   "nbconvert_exporter": "python",
   "pygments_lexer": "ipython3",
   "version": "3.9.7"
  }
 },
 "nbformat": 4,
 "nbformat_minor": 5
}
